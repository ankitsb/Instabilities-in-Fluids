{
 "cells": [
  {
   "cell_type": "markdown",
   "metadata": {
    "slideshow": {
     "slide_type": "slide"
    }
   },
   "source": [
    "# Intro to Stability Theory\n",
    "\n",
    "\n",
    "#### Navid C. Constantinou\n",
    "#### RSES, ANU, 2018"
   ]
  },
  {
   "cell_type": "markdown",
   "metadata": {
    "slideshow": {
     "slide_type": "slide"
    }
   },
   "source": [
    "## Stability\n",
    "\n",
    "The evolution of an *autonomous* dynamical system can be expressed in the form\n",
    "\n",
    "$$\n",
    " \\partial_t \\phi = \\mathcal{F}(\\phi) + \\xi. \\tag{1}\n",
    "$$\n",
    "\n",
    "The state $\\phi$ includes all variables needed to describe the state of the system. For example, for a pendulum that evolves freely in three dimensions $\\phi$ includes the position and the velocity of its free end, that is $\\phi$ consists of just 6 numbers. For the motion of a string on a guitar $\\phi$ then includes the deviation of each point on the string from rest, as well as the velocity of each points. Thus $\\phi$ in this case consiste of two **fields** (otherwise functions) that denote the elevation and velocity of each point of the string.\n",
    "\n",
    "Equation (1) describes the dynamical evolution of our system. That is, (1) if we know that at time $t_0$ our system is in the state $\\phi_0$ then we can predict the state of the system $\\phi(t)$ for all $t>t_0$.\n",
    "\n",
    "In (1):\n",
    "\n",
    "$\\mathcal{F}$ is the dynamical law that governs the evolution of the system.\n",
    "\n",
    "$\\xi$ is denotes external forcing on the system (e.g., gravity forces or some external excitation)"
   ]
  },
  {
   "cell_type": "markdown",
   "metadata": {
    "slideshow": {
     "slide_type": "slide"
    }
   },
   "source": [
    "**Fixed points** or **equilibrium points** are special values of $\\phi=\\phi^e$ which satisfy:\n",
    "$$\n",
    "\\mathcal{F}(\\phi^e) + \\xi  = 0.  \\tag{2}\n",
    "$$\n",
    "They are called equilibria or fixed points because if the system finds itself in one of these states then it will stay there for eternity.\n",
    "\n",
    "---\n",
    "\n",
    "#### Example: the pendulum\n",
    "\n",
    "<img src=\"assets/pendulum.png\" width=15%>\n",
    "\n",
    "\n",
    "Consider a pendulum in two dimensions we learn that the angle $\\theta$ from rest is governed by\n",
    "$$\n",
    "\\frac{\\mathrm{d}^2\\theta}{\\mathrm{d}t^2} + \\frac{g}{\\ell} \\sin{\\theta} = 0.  \\tag{3}\n",
    "$$\n",
    "Note that this is a second-order dynamical law. But if we consider $\\omega(t)\\equiv \\mathrm{d}\\theta/\\mathrm{d}t$ and  $\\phi=[ \\theta, \\omega ]^\\mathrm{T}$ then we can rewrite the second-order equation of motion as:\n",
    "$$\n",
    "\\frac{\\mathrm{d}}{\\mathrm{d}t} \\begin{bmatrix}\\theta(t)\\\\ \\omega(t) \\end{bmatrix} = \\begin{bmatrix}\\omega(t)\\\\-\\frac{g}{\\ell} \\sin[\\theta(t)]\\end{bmatrix}.  \\tag{4}\n",
    "$$\n",
    "\n",
    "What are the pendulum's fixed points?\n",
    "$$\n",
    "\\phi^e_1 = \\begin{bmatrix}0\\\\0\\end{bmatrix}\\quad\\textrm{and}\\quad \\phi^e_2 = \\begin{bmatrix}\\pi\\\\0\\end{bmatrix}  \\tag{5}\n",
    "$$\n",
    "\n",
    "---"
   ]
  },
  {
   "cell_type": "markdown",
   "metadata": {
    "slideshow": {
     "slide_type": "slide"
    }
   },
   "source": [
    "*Stability theory* is the study of how our system behaves if its state starts very close but not quite at one of these equilibrium states $\\phi^e$. In other words, what will happen if we start with $\\phi = \\phi^e + \\phi'$? (The prime in $\\phi'$ implies that $\\phi'$ is infinitesimal.)\n",
    "\n",
    "1. Will the small perturbation $\\phi'$ die out and the system end up to the equilibrium state after some time?\n",
    "2. Will the perturbation $\\phi'$ grow so that the system departs from state $\\phi^e$ and evolve to something completely different?\n",
    "3. Will the system keep \"moving around\" the viscinity of the state $\\phi^e$ but never quite reach it?\n",
    "4. Will the perturbation $\\phi'$ initially grow so that the system departs from state $\\phi^e$ and then, after possibly long time, eventually the system return back and reach $\\phi^e$?\n",
    "\n",
    "Each of the scenaria above describe a diffent notion of stability."
   ]
  },
  {
   "cell_type": "markdown",
   "metadata": {
    "slideshow": {
     "slide_type": "slide"
    }
   },
   "source": [
    "In these lectures we will start by studying what we call **modal stability theory**. In this context, the fixed point is characterized **unstable** if there exist at least some subset of all available perturbations $\\phi'$ which will grow away from $\\phi^e$ **in an exponential rate**, i.e., $\\sim \\exp{\\left[ (\\textrm{some positive number})\\times t\\right]}$.\n",
    "\n",
    "Later on we will study the fascinating notion of transient growth and non-normality. This comes under the name **generalized stability theory** and it often describes a situation like the scenario 4. above. Perturbations can grow (but not at an exponential rate). However, they can ofter grow *a lot*! This situation usual in problems in fluid dynamics and the reason for that is that often the linear operators that govern the perturbation dynamics in fluids problems are *non-normal*. (More details on non-normality will come in a following lecture.)"
   ]
  },
  {
   "cell_type": "markdown",
   "metadata": {
    "slideshow": {
     "slide_type": "slide"
    }
   },
   "source": [
    "### Notions of stability\n",
    "\n",
    "#### Asymptotic stability or modal stability\n",
    "\n",
    "We say that $\\phi^e$ is ***attracting*** or ***asymptotically stable*** (or ***modally stable***) if all trajectories that start near $\\phi^e$ approach it as $t\\to \\infty$.\n",
    "\n",
    "In other words, any trajectory $\\phi^e(t)$ that starts within a \"distance\" $\\delta$ of $\\phi^e$ is guaranteed to converge to $\\phi^e$ ***eventually***.\n",
    "\n",
    "<img src=\"assets/AsymptoticVSLyapunov.png\" width=65%>\n",
    "\n",
    "#### Lyapunov stability\n",
    "\n",
    "We say that $\\phi^e$ is is ***Lyapunov stable*** if all trajectories that start sufficiently close to $\\phi^e$ remain close to it for all time.\n",
    "\n",
    "Thus, trajectories that start within distantce $\\delta$ of $\\phi^e$ remain within distance $\\epsilon$ of $\\phi^e$ for ***all*** time”\n",
    "\n",
    "(See the discussion in Strogatz (2018); chapter 5.)"
   ]
  },
  {
   "cell_type": "markdown",
   "metadata": {
    "slideshow": {
     "slide_type": "slide"
    }
   },
   "source": [
    "Asymptotic stability concerns what happens at $t\\to\\infty$; Lyapunov stability concerns with what happens at *all* times. Eigenanalysis of a dynamical system reveals the $t\\to\\infty$ behavior of it.\n",
    "\n",
    "\n",
    "However, as we pointed, in fluid dynamics we often have the following scenario:\n",
    "\n",
    "<img src=\"assets/transientgrowth.png\" width=65%>\n",
    "\n",
    "The above is, of course *asymptotically* stable. It is also *Lyapunov stable* if we choose $\\epsilon$ to be large enough so that it includes all the area the trajectory $\\phi(t)$ lies in! Clearly though scenario (c) is very different from scenario (b) above. This suggest that yet another notion of perturbation growth in needed; something that deals with perturbation growth over **finite time-intervals**. We will introduce this notion later on when we talk about transient perturbation growth in non-normal dynamical systems. For now we focus on asymptotic stability."
   ]
  },
  {
   "cell_type": "markdown",
   "metadata": {
    "slideshow": {
     "slide_type": "slide"
    }
   },
   "source": [
    "### Asymptotic/modal stability\n",
    "\n",
    "How do we study the asymptotic/modal stability of these fixed point?\n",
    "\n",
    "1. We assume a state that slightly perturbed about the fixed point, $\\phi = \\phi^e + \\phi'$.\n",
    "2. We insert the state in the equation of motion, use that $\\phi^2$ satisfies (2), and discard any terms which are products of $\\phi'$, e.g. discard $(\\phi')^2$, $(\\phi')^3$, ...\n",
    "3. We obtain a linear system of the form\n",
    "$$\n",
    "\\partial_t \\phi' = \\mathcal{A}\\,\\phi'.  \\tag{6}\n",
    "$$\n",
    "where operator $\\mathcal{A}$ depends on the equilibrium state $\\phi^e$.\n",
    "4. Search for eigensolutions $\\phi' = \\widetilde{\\phi}\\,e^{\\sigma t}$. This transforms (6) in an eigenvalue problem with $\\sigma$ the eigenvalue and $\\widetilde{\\phi}$ the eigenvector/eigenfunction:\n",
    "$$\n",
    "\\mathcal{A}\\,\\widetilde{\\phi} = \\sigma \\, \\widetilde{\\phi}.  \\tag{7}\n",
    "$$\n",
    "5. We do eigenanalysis of $\\mathcal{A}$ and determine the spectrum of $\\mathcal{A}$ (spectrum is the set of all eigenvalues).\n",
    "6. If we have *at least one eigenvalue* $\\sigma$ with $\\mathrm{Re}(\\sigma)>0$ then we have **modal instability**. Otherwise the equilibrium $\\phi^e$ is **modally stable**.\n",
    "\n",
    "\n",
    "**A bit more on point 6**: We say that if we have an eigenvalue $\\sigma$ with $\\mathrm{Re}(\\sigma)>0$ then we have modal instability. That is because if we have a perturbation which initially looks like the eigenfunction of that eigenfunction, $\\phi'(t=0) = \\widetilde{\\phi}$, then that perturbation will grow away from $\\phi^e$ at an exponential rate.\n",
    "\n",
    "**Exercise**: Confirm the above statement and then generalize it. What happens in the above system if initially I start of with a random perturbation (and not with the \"special\" perturbation $\\phi'(t=0) = \\widetilde{\\phi}$)? Will the system again move away from $\\phi^e$ at an exponential rate?\n",
    "\n"
   ]
  },
  {
   "cell_type": "markdown",
   "metadata": {
    "slideshow": {
     "slide_type": "slide"
    }
   },
   "source": [
    "---\n",
    "\n",
    "#### Example: the pendulum (continued)\n",
    "For our pendulum example we have that for $\\phi^e_1$\n",
    "$$\n",
    " \\mathcal{A}_1 = \\begin{pmatrix}0 & 1 \\\\ -\\frac{g}{\\ell} & 0\\end{pmatrix}\n",
    "$$\n",
    "while for $\\phi^e_2$:\n",
    "$$\n",
    " \\mathcal{A}_2 = \\begin{pmatrix}0 & 1 \\\\ +\\frac{g}{\\ell} & 0\\end{pmatrix}\n",
    "$$\n",
    "\n",
    "Eigenanalysis of $\\mathcal{A}_1$ gives that its eigenvalues are $\\sigma = +i\\sqrt{\\frac{g}{\\ell}}, -i\\sqrt{\\frac{g}{\\ell}}$.\n",
    "\n",
    "Eigenanalysis of $\\mathcal{A}_2$ gives that its eigenvalues are $\\sigma = +\\sqrt{\\frac{g}{\\ell}}, -\\sqrt{\\frac{g}{\\ell}}$.\n",
    "\n",
    "**None** of the eigenvalues of $\\mathcal{A}_1$ have positive real part $\\Rightarrow$ $\\phi^e_1$ is **modally stable**.\n",
    "\n",
    "There is exist one eigenvalue of $\\mathcal{A}_2$ with $\\mathrm{Re}(\\sigma)>0$ $\\Rightarrow$ $\\phi^e_2$ is **modally unstable**.\n",
    "\n",
    "**Exercise**: Fill in the missing dots in the pendulum example. First make sure that you can reproduce the above. Then proceed finding the eigenvectors that correspond to those eigenvalues. How would the fastest growing mode look like? \n",
    "\n",
    "---"
   ]
  },
  {
   "cell_type": "markdown",
   "metadata": {
    "slideshow": {
     "slide_type": "slide"
    }
   },
   "source": [
    "### References\n",
    "\n",
    "You can read about stability in general dynamical system in many textbooks. My favorite is:\n",
    "\n",
    "- Strogatz, S. H. Nonlinear dynamics and chaos: with applications to physics, biology, chemistry, and engineering. CRC Press, 2018.\n",
    "\n",
    "For stability in fluids some classical references are:\n",
    "- Drazin, P. G., and W. H. Reid. Hydrodynamic stability. Cambridge University press, 2004.\n",
    "- Chandrasekhar, S. Hydrodynamic and hydromagnetic stability. Courier Corporation, 1961.\n",
    "\n",
    "These books are bit hard. Drazin's book has some very nice parts but in the same time it can be also slightly impenetrable. \n",
    "\n",
    "There is also some discussion on the basic notion of modal instability in:\n",
    "- Kundu, P. K. and I. M. Cohen. Fluid Mechanics, Academic Press, 2004 (available from ANU library at https://ebookcentral.proquest.com/lib/anu/detail.action?docID=534929)."
   ]
  }
 ],
 "metadata": {
  "celltoolbar": "Slideshow",
  "kernelspec": {
   "display_name": "Python 3",
   "language": "python",
   "name": "python3"
  },
  "language_info": {
   "codemirror_mode": {
    "name": "ipython",
    "version": 3
   },
   "file_extension": ".py",
   "mimetype": "text/x-python",
   "name": "python",
   "nbconvert_exporter": "python",
   "pygments_lexer": "ipython3",
   "version": "3.7.3"
  }
 },
 "nbformat": 4,
 "nbformat_minor": 2
}
